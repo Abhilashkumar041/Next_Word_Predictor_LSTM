{
  "nbformat": 4,
  "nbformat_minor": 0,
  "metadata": {
    "colab": {
      "provenance": [],
      "gpuType": "T4"
    },
    "kernelspec": {
      "name": "python3",
      "display_name": "Python 3"
    },
    "language_info": {
      "name": "python"
    },
    "accelerator": "GPU"
  },
  "cells": [
    {
      "cell_type": "code",
      "source": [
        "cricket = \"\"\"This English game has been popular throughout the world for more than a century, and it may be India’s favourite sport. When a cricket fan’s side wins a game, there are few emotions that can be compared to the thrilling exhilaration they experience.\n",
        "\n",
        "It is typical to witness groups of cheering fans dancing or jumping up and down in front of the TV. The majority of these fanatics would fervently declare that cricket is even their religion!\n",
        "\n",
        "In this article, we’ll go through the history of cricket, including its origin and evolution over time.\n",
        "\n",
        "Origin of Cricket\n",
        "Cricket originated in rural England, where farmers and shepherds would play for enjoyment. Two youths were reported as playing “creckett” on a piece of land in Surrey in a court case from 1598. The game evolved and became more popular over time; structured matches first arose in the 17th century.\n",
        "\n",
        "Cricket underwent substantial modifications during the 18th century and began to emerge as an acknowledged sport. The Marylebone Cricket Club (MCC), founded in 1787, was instrumental in establishing the game’s rules and regulations. The MCC had a significant impact on how cricket is played today.\n",
        "\n",
        "Also Read: A Beginner’s Guide to Understanding Cricket\n",
        "\n",
        "Origin of Cricket in India\n",
        "The British brought cricket to India. Only British citizens initially participated in the game. It later became ingrained in Indian society as a result of the support it received from the ruling class and royal homes.\n",
        "\n",
        "Cricket gained popularity in Bombay, Calcutta, and Madras by the start of the 19th century. In 1902–03, a team from England visited India. Maharaja Bhupinder Singh of Patiala led an All-India team on a 1911 trip to England.\n",
        "\n",
        "Near the end of 1928, the Indian Cricket Control Board was established. The national Ranji Trophy championship started in 1935 thanks to the efforts of various Indian princes, including H.E. Grant Goven and A.S. De Mellow. India made its international debut in 1932 and faced England in its first Test match.\n",
        "\n",
        "In the interim, Prince Ranjit Singhji of Nawanagar, who had gone to England for further study, made a name for himself in the sport of cricket. He was an English player, yet he is revered as the founder of Indian cricket. India’s national cricket tournament, the Ranji Trophy, was named in his honour and will live on forever.\n",
        "\n",
        "Also Read: India’s Domestic Cricket Structure – Explained\n",
        "\n",
        "Establishments\n",
        "Cricket’s popularity in England and the British Empire as a whole skyrocketed during the nineteenth century. The game involved Australia, India, South Africa, and the West Indies. England and Australia played the first Test match, which was formally recognised as an international cricket match, in 1877.\n",
        "\n",
        "Cricket gained popularity in the early twentieth century, culminating in the formation of the International Cricket Council (ICC) in 1909. The ICC, which was established as the governing body for international cricket, was critical in organising competitions and preserving the spirit of the game.\n",
        "\n",
        "Cricket has seen many advancements and changes over the years. The advent of limited-overs cricket in the 1960s was one of the most significant advancements. Limited-overs contests, also known as one-day internationals (ODIs), offered the game a new dimension by focusing on shorter, more intense encounters.\n",
        "\n",
        "Cricket has experienced even more turmoil in the twenty-first century. The introduction of Twenty20 (T20) cricket altered the game by introducing a faster and more exciting format. T20 events such as the Indian Premier League (IPL) and the Big Bash League (BBL) have grown in popularity, attracting spectators from all over the world.\n",
        "\n",
        "Also Read: How Does the IPL Auction Work? – Explained\n",
        "\n",
        "Cricket has embraced technological innovations in order to improve the game. The Decision Review System (DRS) allows teams to challenge on-field judgments, making the game more accurate and equal.\n",
        "\n",
        "Cricket is now played at many different levels, ranging from small club competitions to international championships. Test cricket is considered the pinnacle of the sport and the best format for assessing a team’s talent and stamina. One-Day Internationals and Twenty20 matches continue to draw large crowds as players demonstrate their ability on a worldwide stage.\n",
        "\n",
        "Final Thoughts\n",
        "The history of cricket as a sport is fascinating, from its humble beginnings to its current standing as a global phenomenon. Cricket has gained the hearts of both players and spectators since its humble beginnings in rural England, growing into a popular sport played by millions of people worldwide. Cricket continues to thrive and amuse fans all around the world due to its rich history and technological advancements.\n",
        "\n",
        "Read Next: Exploring the Similarities and Differences\"\"\""
      ],
      "metadata": {
        "id": "cVxWznF7lGmA"
      },
      "execution_count": 1,
      "outputs": []
    },
    {
      "cell_type": "code",
      "source": [
        "import tensorflow as tf\n",
        "from tensorflow.keras.preprocessing.text import Tokenizer"
      ],
      "metadata": {
        "id": "HirphSJCJA30"
      },
      "execution_count": 2,
      "outputs": []
    },
    {
      "cell_type": "code",
      "source": [
        "tokenizer = Tokenizer()"
      ],
      "metadata": {
        "id": "94G2xeQwJA6o"
      },
      "execution_count": 3,
      "outputs": []
    },
    {
      "cell_type": "code",
      "source": [
        "tokenizer"
      ],
      "metadata": {
        "colab": {
          "base_uri": "https://localhost:8080/"
        },
        "id": "Dp0p08jlJA9T",
        "outputId": "b3da34ba-b730-47d5-d34d-7b25bfce87f4"
      },
      "execution_count": 4,
      "outputs": [
        {
          "output_type": "execute_result",
          "data": {
            "text/plain": [
              "<keras.src.preprocessing.text.Tokenizer at 0x78d64c1ea980>"
            ]
          },
          "metadata": {},
          "execution_count": 4
        }
      ]
    },
    {
      "cell_type": "code",
      "source": [
        "tokenizer.fit_on_texts([cricket])"
      ],
      "metadata": {
        "id": "4wG9rImPJA_-"
      },
      "execution_count": 5,
      "outputs": []
    },
    {
      "cell_type": "code",
      "source": [
        "tokenizer.word_index"
      ],
      "metadata": {
        "colab": {
          "base_uri": "https://localhost:8080/"
        },
        "id": "cp2pGWE6JBC9",
        "outputId": "988a9d7e-768f-4143-9e2a-7e2664682504"
      },
      "execution_count": 6,
      "outputs": [
        {
          "output_type": "execute_result",
          "data": {
            "text/plain": [
              "{'the': 1,\n",
              " 'cricket': 2,\n",
              " 'in': 3,\n",
              " 'and': 4,\n",
              " 'of': 5,\n",
              " 'a': 6,\n",
              " 'to': 7,\n",
              " 'as': 8,\n",
              " 'game': 9,\n",
              " 'england': 10,\n",
              " 'was': 11,\n",
              " 'century': 12,\n",
              " 'is': 13,\n",
              " 'its': 14,\n",
              " 'on': 15,\n",
              " 'for': 16,\n",
              " 'more': 17,\n",
              " 'sport': 18,\n",
              " 'from': 19,\n",
              " 'india': 20,\n",
              " 'has': 21,\n",
              " 'indian': 22,\n",
              " 'international': 23,\n",
              " 'it': 24,\n",
              " 'over': 25,\n",
              " 'first': 26,\n",
              " 'an': 27,\n",
              " 'played': 28,\n",
              " 'also': 29,\n",
              " 'read': 30,\n",
              " 'popularity': 31,\n",
              " 'by': 32,\n",
              " 'popular': 33,\n",
              " 'world': 34,\n",
              " 'india’s': 35,\n",
              " 'history': 36,\n",
              " 'origin': 37,\n",
              " 'british': 38,\n",
              " 'gained': 39,\n",
              " 'all': 40,\n",
              " 'test': 41,\n",
              " 'match': 42,\n",
              " 'advancements': 43,\n",
              " 'one': 44,\n",
              " 'this': 45,\n",
              " 'english': 46,\n",
              " 'be': 47,\n",
              " 'that': 48,\n",
              " 'fans': 49,\n",
              " 'would': 50,\n",
              " 'even': 51,\n",
              " 'their': 52,\n",
              " 'including': 53,\n",
              " 'time': 54,\n",
              " 'rural': 55,\n",
              " 'became': 56,\n",
              " 'matches': 57,\n",
              " 'during': 58,\n",
              " 'club': 59,\n",
              " 'mcc': 60,\n",
              " 'had': 61,\n",
              " 'significant': 62,\n",
              " 'how': 63,\n",
              " 'team': 64,\n",
              " 'established': 65,\n",
              " 'national': 66,\n",
              " 'ranji': 67,\n",
              " 'trophy': 68,\n",
              " 'made': 69,\n",
              " 'he': 70,\n",
              " '–': 71,\n",
              " 'explained': 72,\n",
              " 'australia': 73,\n",
              " 'which': 74,\n",
              " 'icc': 75,\n",
              " 'competitions': 76,\n",
              " 'many': 77,\n",
              " 'limited': 78,\n",
              " 'overs': 79,\n",
              " 'day': 80,\n",
              " 'internationals': 81,\n",
              " 'twenty20': 82,\n",
              " 't20': 83,\n",
              " 'format': 84,\n",
              " 'league': 85,\n",
              " 'ipl': 86,\n",
              " 'spectators': 87,\n",
              " 'technological': 88,\n",
              " 'players': 89,\n",
              " 'worldwide': 90,\n",
              " 'humble': 91,\n",
              " 'beginnings': 92,\n",
              " 'been': 93,\n",
              " 'throughout': 94,\n",
              " 'than': 95,\n",
              " 'may': 96,\n",
              " 'favourite': 97,\n",
              " 'when': 98,\n",
              " 'fan’s': 99,\n",
              " 'side': 100,\n",
              " 'wins': 101,\n",
              " 'there': 102,\n",
              " 'are': 103,\n",
              " 'few': 104,\n",
              " 'emotions': 105,\n",
              " 'can': 106,\n",
              " 'compared': 107,\n",
              " 'thrilling': 108,\n",
              " 'exhilaration': 109,\n",
              " 'they': 110,\n",
              " 'experience': 111,\n",
              " 'typical': 112,\n",
              " 'witness': 113,\n",
              " 'groups': 114,\n",
              " 'cheering': 115,\n",
              " 'dancing': 116,\n",
              " 'or': 117,\n",
              " 'jumping': 118,\n",
              " 'up': 119,\n",
              " 'down': 120,\n",
              " 'front': 121,\n",
              " 'tv': 122,\n",
              " 'majority': 123,\n",
              " 'these': 124,\n",
              " 'fanatics': 125,\n",
              " 'fervently': 126,\n",
              " 'declare': 127,\n",
              " 'religion': 128,\n",
              " 'article': 129,\n",
              " 'we’ll': 130,\n",
              " 'go': 131,\n",
              " 'through': 132,\n",
              " 'evolution': 133,\n",
              " 'originated': 134,\n",
              " 'where': 135,\n",
              " 'farmers': 136,\n",
              " 'shepherds': 137,\n",
              " 'play': 138,\n",
              " 'enjoyment': 139,\n",
              " 'two': 140,\n",
              " 'youths': 141,\n",
              " 'were': 142,\n",
              " 'reported': 143,\n",
              " 'playing': 144,\n",
              " '“creckett”': 145,\n",
              " 'piece': 146,\n",
              " 'land': 147,\n",
              " 'surrey': 148,\n",
              " 'court': 149,\n",
              " 'case': 150,\n",
              " '1598': 151,\n",
              " 'evolved': 152,\n",
              " 'structured': 153,\n",
              " 'arose': 154,\n",
              " '17th': 155,\n",
              " 'underwent': 156,\n",
              " 'substantial': 157,\n",
              " 'modifications': 158,\n",
              " '18th': 159,\n",
              " 'began': 160,\n",
              " 'emerge': 161,\n",
              " 'acknowledged': 162,\n",
              " 'marylebone': 163,\n",
              " 'founded': 164,\n",
              " '1787': 165,\n",
              " 'instrumental': 166,\n",
              " 'establishing': 167,\n",
              " 'game’s': 168,\n",
              " 'rules': 169,\n",
              " 'regulations': 170,\n",
              " 'impact': 171,\n",
              " 'today': 172,\n",
              " 'beginner’s': 173,\n",
              " 'guide': 174,\n",
              " 'understanding': 175,\n",
              " 'brought': 176,\n",
              " 'only': 177,\n",
              " 'citizens': 178,\n",
              " 'initially': 179,\n",
              " 'participated': 180,\n",
              " 'later': 181,\n",
              " 'ingrained': 182,\n",
              " 'society': 183,\n",
              " 'result': 184,\n",
              " 'support': 185,\n",
              " 'received': 186,\n",
              " 'ruling': 187,\n",
              " 'class': 188,\n",
              " 'royal': 189,\n",
              " 'homes': 190,\n",
              " 'bombay': 191,\n",
              " 'calcutta': 192,\n",
              " 'madras': 193,\n",
              " 'start': 194,\n",
              " '19th': 195,\n",
              " '1902–03': 196,\n",
              " 'visited': 197,\n",
              " 'maharaja': 198,\n",
              " 'bhupinder': 199,\n",
              " 'singh': 200,\n",
              " 'patiala': 201,\n",
              " 'led': 202,\n",
              " '1911': 203,\n",
              " 'trip': 204,\n",
              " 'near': 205,\n",
              " 'end': 206,\n",
              " '1928': 207,\n",
              " 'control': 208,\n",
              " 'board': 209,\n",
              " 'championship': 210,\n",
              " 'started': 211,\n",
              " '1935': 212,\n",
              " 'thanks': 213,\n",
              " 'efforts': 214,\n",
              " 'various': 215,\n",
              " 'princes': 216,\n",
              " 'h': 217,\n",
              " 'e': 218,\n",
              " 'grant': 219,\n",
              " 'goven': 220,\n",
              " 's': 221,\n",
              " 'de': 222,\n",
              " 'mellow': 223,\n",
              " 'debut': 224,\n",
              " '1932': 225,\n",
              " 'faced': 226,\n",
              " 'interim': 227,\n",
              " 'prince': 228,\n",
              " 'ranjit': 229,\n",
              " 'singhji': 230,\n",
              " 'nawanagar': 231,\n",
              " 'who': 232,\n",
              " 'gone': 233,\n",
              " 'further': 234,\n",
              " 'study': 235,\n",
              " 'name': 236,\n",
              " 'himself': 237,\n",
              " 'player': 238,\n",
              " 'yet': 239,\n",
              " 'revered': 240,\n",
              " 'founder': 241,\n",
              " 'tournament': 242,\n",
              " 'named': 243,\n",
              " 'his': 244,\n",
              " 'honour': 245,\n",
              " 'will': 246,\n",
              " 'live': 247,\n",
              " 'forever': 248,\n",
              " 'domestic': 249,\n",
              " 'structure': 250,\n",
              " 'establishments': 251,\n",
              " 'cricket’s': 252,\n",
              " 'empire': 253,\n",
              " 'whole': 254,\n",
              " 'skyrocketed': 255,\n",
              " 'nineteenth': 256,\n",
              " 'involved': 257,\n",
              " 'south': 258,\n",
              " 'africa': 259,\n",
              " 'west': 260,\n",
              " 'indies': 261,\n",
              " 'formally': 262,\n",
              " 'recognised': 263,\n",
              " '1877': 264,\n",
              " 'early': 265,\n",
              " 'twentieth': 266,\n",
              " 'culminating': 267,\n",
              " 'formation': 268,\n",
              " 'council': 269,\n",
              " '1909': 270,\n",
              " 'governing': 271,\n",
              " 'body': 272,\n",
              " 'critical': 273,\n",
              " 'organising': 274,\n",
              " 'preserving': 275,\n",
              " 'spirit': 276,\n",
              " 'seen': 277,\n",
              " 'changes': 278,\n",
              " 'years': 279,\n",
              " 'advent': 280,\n",
              " '1960s': 281,\n",
              " 'most': 282,\n",
              " 'contests': 283,\n",
              " 'known': 284,\n",
              " 'odis': 285,\n",
              " 'offered': 286,\n",
              " 'new': 287,\n",
              " 'dimension': 288,\n",
              " 'focusing': 289,\n",
              " 'shorter': 290,\n",
              " 'intense': 291,\n",
              " 'encounters': 292,\n",
              " 'experienced': 293,\n",
              " 'turmoil': 294,\n",
              " 'twenty': 295,\n",
              " 'introduction': 296,\n",
              " 'altered': 297,\n",
              " 'introducing': 298,\n",
              " 'faster': 299,\n",
              " 'exciting': 300,\n",
              " 'events': 301,\n",
              " 'such': 302,\n",
              " 'premier': 303,\n",
              " 'big': 304,\n",
              " 'bash': 305,\n",
              " 'bbl': 306,\n",
              " 'have': 307,\n",
              " 'grown': 308,\n",
              " 'attracting': 309,\n",
              " 'does': 310,\n",
              " 'auction': 311,\n",
              " 'work': 312,\n",
              " 'embraced': 313,\n",
              " 'innovations': 314,\n",
              " 'order': 315,\n",
              " 'improve': 316,\n",
              " 'decision': 317,\n",
              " 'review': 318,\n",
              " 'system': 319,\n",
              " 'drs': 320,\n",
              " 'allows': 321,\n",
              " 'teams': 322,\n",
              " 'challenge': 323,\n",
              " 'field': 324,\n",
              " 'judgments': 325,\n",
              " 'making': 326,\n",
              " 'accurate': 327,\n",
              " 'equal': 328,\n",
              " 'now': 329,\n",
              " 'at': 330,\n",
              " 'different': 331,\n",
              " 'levels': 332,\n",
              " 'ranging': 333,\n",
              " 'small': 334,\n",
              " 'championships': 335,\n",
              " 'considered': 336,\n",
              " 'pinnacle': 337,\n",
              " 'best': 338,\n",
              " 'assessing': 339,\n",
              " 'team’s': 340,\n",
              " 'talent': 341,\n",
              " 'stamina': 342,\n",
              " 'continue': 343,\n",
              " 'draw': 344,\n",
              " 'large': 345,\n",
              " 'crowds': 346,\n",
              " 'demonstrate': 347,\n",
              " 'ability': 348,\n",
              " 'stage': 349,\n",
              " 'final': 350,\n",
              " 'thoughts': 351,\n",
              " 'fascinating': 352,\n",
              " 'current': 353,\n",
              " 'standing': 354,\n",
              " 'global': 355,\n",
              " 'phenomenon': 356,\n",
              " 'hearts': 357,\n",
              " 'both': 358,\n",
              " 'since': 359,\n",
              " 'growing': 360,\n",
              " 'into': 361,\n",
              " 'millions': 362,\n",
              " 'people': 363,\n",
              " 'continues': 364,\n",
              " 'thrive': 365,\n",
              " 'amuse': 366,\n",
              " 'around': 367,\n",
              " 'due': 368,\n",
              " 'rich': 369,\n",
              " 'next': 370,\n",
              " 'exploring': 371,\n",
              " 'similarities': 372,\n",
              " 'differences': 373}"
            ]
          },
          "metadata": {},
          "execution_count": 6
        }
      ]
    },
    {
      "cell_type": "code",
      "source": [
        "for sentence in cricket.split(\"\\n\"):\n",
        "  print(sentence)"
      ],
      "metadata": {
        "colab": {
          "base_uri": "https://localhost:8080/"
        },
        "id": "4IK1KBV9JBFt",
        "outputId": "4354fc29-926d-476f-f8f6-8040b3f6b4ff"
      },
      "execution_count": 7,
      "outputs": [
        {
          "output_type": "stream",
          "name": "stdout",
          "text": [
            "This English game has been popular throughout the world for more than a century, and it may be India’s favourite sport. When a cricket fan’s side wins a game, there are few emotions that can be compared to the thrilling exhilaration they experience.\n",
            "\n",
            "It is typical to witness groups of cheering fans dancing or jumping up and down in front of the TV. The majority of these fanatics would fervently declare that cricket is even their religion!\n",
            "\n",
            "In this article, we’ll go through the history of cricket, including its origin and evolution over time.\n",
            "\n",
            "Origin of Cricket\n",
            "Cricket originated in rural England, where farmers and shepherds would play for enjoyment. Two youths were reported as playing “creckett” on a piece of land in Surrey in a court case from 1598. The game evolved and became more popular over time; structured matches first arose in the 17th century.\n",
            "\n",
            "Cricket underwent substantial modifications during the 18th century and began to emerge as an acknowledged sport. The Marylebone Cricket Club (MCC), founded in 1787, was instrumental in establishing the game’s rules and regulations. The MCC had a significant impact on how cricket is played today.\n",
            "\n",
            "Also Read: A Beginner’s Guide to Understanding Cricket\n",
            "\n",
            "Origin of Cricket in India\n",
            "The British brought cricket to India. Only British citizens initially participated in the game. It later became ingrained in Indian society as a result of the support it received from the ruling class and royal homes.\n",
            "\n",
            "Cricket gained popularity in Bombay, Calcutta, and Madras by the start of the 19th century. In 1902–03, a team from England visited India. Maharaja Bhupinder Singh of Patiala led an All-India team on a 1911 trip to England.\n",
            "\n",
            "Near the end of 1928, the Indian Cricket Control Board was established. The national Ranji Trophy championship started in 1935 thanks to the efforts of various Indian princes, including H.E. Grant Goven and A.S. De Mellow. India made its international debut in 1932 and faced England in its first Test match.\n",
            "\n",
            "In the interim, Prince Ranjit Singhji of Nawanagar, who had gone to England for further study, made a name for himself in the sport of cricket. He was an English player, yet he is revered as the founder of Indian cricket. India’s national cricket tournament, the Ranji Trophy, was named in his honour and will live on forever.\n",
            "\n",
            "Also Read: India’s Domestic Cricket Structure – Explained \n",
            "\n",
            "Establishments\n",
            "Cricket’s popularity in England and the British Empire as a whole skyrocketed during the nineteenth century. The game involved Australia, India, South Africa, and the West Indies. England and Australia played the first Test match, which was formally recognised as an international cricket match, in 1877.\n",
            "\n",
            "Cricket gained popularity in the early twentieth century, culminating in the formation of the International Cricket Council (ICC) in 1909. The ICC, which was established as the governing body for international cricket, was critical in organising competitions and preserving the spirit of the game.\n",
            "\n",
            "Cricket has seen many advancements and changes over the years. The advent of limited-overs cricket in the 1960s was one of the most significant advancements. Limited-overs contests, also known as one-day internationals (ODIs), offered the game a new dimension by focusing on shorter, more intense encounters.\n",
            "\n",
            "Cricket has experienced even more turmoil in the twenty-first century. The introduction of Twenty20 (T20) cricket altered the game by introducing a faster and more exciting format. T20 events such as the Indian Premier League (IPL) and the Big Bash League (BBL) have grown in popularity, attracting spectators from all over the world.\n",
            "\n",
            "Also Read: How Does the IPL Auction Work? – Explained\n",
            "\n",
            "Cricket has embraced technological innovations in order to improve the game. The Decision Review System (DRS) allows teams to challenge on-field judgments, making the game more accurate and equal.\n",
            "\n",
            "Cricket is now played at many different levels, ranging from small club competitions to international championships. Test cricket is considered the pinnacle of the sport and the best format for assessing a team’s talent and stamina. One-Day Internationals and Twenty20 matches continue to draw large crowds as players demonstrate their ability on a worldwide stage.\n",
            "\n",
            "Final Thoughts\n",
            "The history of cricket as a sport is fascinating, from its humble beginnings to its current standing as a global phenomenon. Cricket has gained the hearts of both players and spectators since its humble beginnings in rural England, growing into a popular sport played by millions of people worldwide. Cricket continues to thrive and amuse fans all around the world due to its rich history and technological advancements.\n",
            "\n",
            "Read Next: Exploring the Similarities and Differences\n"
          ]
        }
      ]
    },
    {
      "cell_type": "code",
      "source": [
        "input_sequence =[]\n",
        "\n",
        "for sentence in cricket.split(\"\\n\"):\n",
        "  tokenized_sentence = tokenizer.texts_to_sequences([sentence])[0]\n",
        "\n",
        "\n",
        "  for i in range(1,len(tokenized_sentence)):\n",
        "    input_sequence.append(tokenized_sentence[:i+1])"
      ],
      "metadata": {
        "id": "P6CvIjkWJBIj"
      },
      "execution_count": 8,
      "outputs": []
    },
    {
      "cell_type": "code",
      "source": [
        "max([len(x) for x in input_sequence])"
      ],
      "metadata": {
        "colab": {
          "base_uri": "https://localhost:8080/"
        },
        "id": "zQdAiKnDJBOC",
        "outputId": "b8f53506-92f3-43df-ff47-9dbbe5d411f6"
      },
      "execution_count": 9,
      "outputs": [
        {
          "output_type": "execute_result",
          "data": {
            "text/plain": [
              "68"
            ]
          },
          "metadata": {},
          "execution_count": 9
        }
      ]
    },
    {
      "cell_type": "code",
      "source": [
        "from tensorflow.keras.preprocessing.sequence import pad_sequences"
      ],
      "metadata": {
        "id": "VzeYuvirJBQ9"
      },
      "execution_count": 10,
      "outputs": []
    },
    {
      "cell_type": "code",
      "source": [
        "padded_input_sequences = pad_sequences(input_sequence, maxlen = 68, padding='pre')"
      ],
      "metadata": {
        "id": "O_aggLd0JBT2"
      },
      "execution_count": 11,
      "outputs": []
    },
    {
      "cell_type": "code",
      "source": [
        "padded_input_sequences"
      ],
      "metadata": {
        "id": "HoJoyStzlGoh",
        "colab": {
          "base_uri": "https://localhost:8080/"
        },
        "outputId": "54c91251-1fe0-45f8-c9ec-7352bf06e9b0"
      },
      "execution_count": 12,
      "outputs": [
        {
          "output_type": "execute_result",
          "data": {
            "text/plain": [
              "array([[  0,   0,   0, ...,   0,  45,  46],\n",
              "       [  0,   0,   0, ...,  45,  46,   9],\n",
              "       [  0,   0,   0, ...,  46,   9,  21],\n",
              "       ...,\n",
              "       [  0,   0,   0, ..., 371,   1, 372],\n",
              "       [  0,   0,   0, ...,   1, 372,   4],\n",
              "       [  0,   0,   0, ..., 372,   4, 373]], dtype=int32)"
            ]
          },
          "metadata": {},
          "execution_count": 12
        }
      ]
    },
    {
      "cell_type": "code",
      "source": [
        "X = padded_input_sequences[:,:-1]\n",
        "X"
      ],
      "metadata": {
        "id": "yTCcH5nwlGq5",
        "colab": {
          "base_uri": "https://localhost:8080/"
        },
        "outputId": "6c4c504a-047a-4ca6-96f2-df2048bdef9f"
      },
      "execution_count": 13,
      "outputs": [
        {
          "output_type": "execute_result",
          "data": {
            "text/plain": [
              "array([[  0,   0,   0, ...,   0,   0,  45],\n",
              "       [  0,   0,   0, ...,   0,  45,  46],\n",
              "       [  0,   0,   0, ...,  45,  46,   9],\n",
              "       ...,\n",
              "       [  0,   0,   0, ..., 370, 371,   1],\n",
              "       [  0,   0,   0, ..., 371,   1, 372],\n",
              "       [  0,   0,   0, ...,   1, 372,   4]], dtype=int32)"
            ]
          },
          "metadata": {},
          "execution_count": 13
        }
      ]
    },
    {
      "cell_type": "code",
      "source": [
        "y = padded_input_sequences[:,-1]\n",
        "y"
      ],
      "metadata": {
        "colab": {
          "base_uri": "https://localhost:8080/"
        },
        "id": "NdoOkRWubsh7",
        "outputId": "2557c557-8a94-49a5-ca8a-b77ec75cb849"
      },
      "execution_count": 14,
      "outputs": [
        {
          "output_type": "execute_result",
          "data": {
            "text/plain": [
              "array([ 46,   9,  21,  93,  33,  94,   1,  34,  16,  17,  95,   6,  12,\n",
              "         4,  24,  96,  47,  35,  97,  18,  98,   6,   2,  99, 100, 101,\n",
              "         6,   9, 102, 103, 104, 105,  48, 106,  47, 107,   7,   1, 108,\n",
              "       109, 110, 111,  13, 112,   7, 113, 114,   5, 115,  49, 116, 117,\n",
              "       118, 119,   4, 120,   3, 121,   5,   1, 122,   1, 123,   5, 124,\n",
              "       125,  50, 126, 127,  48,   2,  13,  51,  52, 128,  45, 129, 130,\n",
              "       131, 132,   1,  36,   5,   2,  53,  14,  37,   4, 133,  25,  54,\n",
              "         5,   2, 134,   3,  55,  10, 135, 136,   4, 137,  50, 138,  16,\n",
              "       139, 140, 141, 142, 143,   8, 144, 145,  15,   6, 146,   5, 147,\n",
              "         3, 148,   3,   6, 149, 150,  19, 151,   1,   9, 152,   4,  56,\n",
              "        17,  33,  25,  54, 153,  57,  26, 154,   3,   1, 155,  12, 156,\n",
              "       157, 158,  58,   1, 159,  12,   4, 160,   7, 161,   8,  27, 162,\n",
              "        18,   1, 163,   2,  59,  60, 164,   3, 165,  11, 166,   3, 167,\n",
              "         1, 168, 169,   4, 170,   1,  60,  61,   6,  62, 171,  15,  63,\n",
              "         2,  13,  28, 172,  30,   6, 173, 174,   7, 175,   2,   5,   2,\n",
              "         3,  20,  38, 176,   2,   7,  20, 177,  38, 178, 179, 180,   3,\n",
              "         1,   9,  24, 181,  56, 182,   3,  22, 183,   8,   6, 184,   5,\n",
              "         1, 185,  24, 186,  19,   1, 187, 188,   4, 189, 190,  39,  31,\n",
              "         3, 191, 192,   4, 193,  32,   1, 194,   5,   1, 195,  12,   3,\n",
              "       196,   6,  64,  19,  10, 197,  20, 198, 199, 200,   5, 201, 202,\n",
              "        27,  40,  20,  64,  15,   6, 203, 204,   7,  10,   1, 206,   5,\n",
              "       207,   1,  22,   2, 208, 209,  11,  65,   1,  66,  67,  68, 210,\n",
              "       211,   3, 212, 213,   7,   1, 214,   5, 215,  22, 216,  53, 217,\n",
              "       218, 219, 220,   4,   6, 221, 222, 223,  20,  69,  14,  23, 224,\n",
              "         3, 225,   4, 226,  10,   3,  14,  26,  41,  42,   1, 227, 228,\n",
              "       229, 230,   5, 231, 232,  61, 233,   7,  10,  16, 234, 235,  69,\n",
              "         6, 236,  16, 237,   3,   1,  18,   5,   2,  70,  11,  27,  46,\n",
              "       238, 239,  70,  13, 240,   8,   1, 241,   5,  22,   2,  35,  66,\n",
              "         2, 242,   1,  67,  68,  11, 243,   3, 244, 245,   4, 246, 247,\n",
              "        15, 248,  30,  35, 249,   2, 250,  71,  72,  31,   3,  10,   4,\n",
              "         1,  38, 253,   8,   6, 254, 255,  58,   1, 256,  12,   1,   9,\n",
              "       257,  73,  20, 258, 259,   4,   1, 260, 261,  10,   4,  73,  28,\n",
              "         1,  26,  41,  42,  74,  11, 262, 263,   8,  27,  23,   2,  42,\n",
              "         3, 264,  39,  31,   3,   1, 265, 266,  12, 267,   3,   1, 268,\n",
              "         5,   1,  23,   2, 269,  75,   3, 270,   1,  75,  74,  11,  65,\n",
              "         8,   1, 271, 272,  16,  23,   2,  11, 273,   3, 274,  76,   4,\n",
              "       275,   1, 276,   5,   1,   9,  21, 277,  77,  43,   4, 278,  25,\n",
              "         1, 279,   1, 280,   5,  78,  79,   2,   3,   1, 281,  11,  44,\n",
              "         5,   1, 282,  62,  43,  78,  79, 283,  29, 284,   8,  44,  80,\n",
              "        81, 285, 286,   1,   9,   6, 287, 288,  32, 289,  15, 290,  17,\n",
              "       291, 292,  21, 293,  51,  17, 294,   3,   1, 295,  26,  12,   1,\n",
              "       296,   5,  82,  83,   2, 297,   1,   9,  32, 298,   6, 299,   4,\n",
              "        17, 300,  84,  83, 301, 302,   8,   1,  22, 303,  85,  86,   4,\n",
              "         1, 304, 305,  85, 306, 307, 308,   3,  31, 309,  87,  19,  40,\n",
              "        25,   1,  34,  30,  63, 310,   1,  86, 311, 312,  71,  72,  21,\n",
              "       313,  88, 314,   3, 315,   7, 316,   1,   9,   1, 317, 318, 319,\n",
              "       320, 321, 322,   7, 323,  15, 324, 325, 326,   1,   9,  17, 327,\n",
              "         4, 328,  13, 329,  28, 330,  77, 331, 332, 333,  19, 334,  59,\n",
              "        76,   7,  23, 335,  41,   2,  13, 336,   1, 337,   5,   1,  18,\n",
              "         4,   1, 338,  84,  16, 339,   6, 340, 341,   4, 342,  44,  80,\n",
              "        81,   4,  82,  57, 343,   7, 344, 345, 346,   8,  89, 347,  52,\n",
              "       348,  15,   6,  90, 349, 351,  36,   5,   2,   8,   6,  18,  13,\n",
              "       352,  19,  14,  91,  92,   7,  14, 353, 354,   8,   6, 355, 356,\n",
              "         2,  21,  39,   1, 357,   5, 358,  89,   4,  87, 359,  14,  91,\n",
              "        92,   3,  55,  10, 360, 361,   6,  33,  18,  28,  32, 362,   5,\n",
              "       363,  90,   2, 364,   7, 365,   4, 366,  49,  40, 367,   1,  34,\n",
              "       368,   7,  14, 369,  36,   4,  88,  43, 370, 371,   1, 372,   4,\n",
              "       373], dtype=int32)"
            ]
          },
          "metadata": {},
          "execution_count": 14
        }
      ]
    },
    {
      "cell_type": "code",
      "source": [
        "print(\"Shape of input data\", X.shape)\n",
        "print(\"Shape of output data\" ,y.shape)"
      ],
      "metadata": {
        "colab": {
          "base_uri": "https://localhost:8080/"
        },
        "id": "CSO5UNqUbskn",
        "outputId": "894258cd-3013-435e-f5cd-58b85e64f65c"
      },
      "execution_count": 15,
      "outputs": [
        {
          "output_type": "stream",
          "name": "stdout",
          "text": [
            "Shape of input data (742, 67)\n",
            "Shape of output data (742,)\n"
          ]
        }
      ]
    },
    {
      "cell_type": "code",
      "source": [
        "print(len(tokenizer.word_index))"
      ],
      "metadata": {
        "colab": {
          "base_uri": "https://localhost:8080/"
        },
        "id": "erO8gURnbsnU",
        "outputId": "57e5354f-d4a2-4c97-a0cf-968c64fb1710"
      },
      "execution_count": 16,
      "outputs": [
        {
          "output_type": "stream",
          "name": "stdout",
          "text": [
            "373\n"
          ]
        }
      ]
    },
    {
      "cell_type": "code",
      "source": [
        "from tensorflow.keras.utils import to_categorical"
      ],
      "metadata": {
        "id": "WYTjO1Debsp1"
      },
      "execution_count": 17,
      "outputs": []
    },
    {
      "cell_type": "code",
      "source": [
        "y= to_categorical(y, num_classes=374)"
      ],
      "metadata": {
        "id": "6xb311lybsss"
      },
      "execution_count": 18,
      "outputs": []
    },
    {
      "cell_type": "code",
      "source": [
        "print(\"Shape of input data\", X.shape)\n",
        "print(\"Shape of output data\" ,y.shape)"
      ],
      "metadata": {
        "colab": {
          "base_uri": "https://localhost:8080/"
        },
        "id": "DdoNqkyXbsu1",
        "outputId": "c81cc6f6-d49f-4595-b7d4-883205075bd4"
      },
      "execution_count": 19,
      "outputs": [
        {
          "output_type": "stream",
          "name": "stdout",
          "text": [
            "Shape of input data (742, 67)\n",
            "Shape of output data (742, 374)\n"
          ]
        }
      ]
    },
    {
      "cell_type": "code",
      "source": [
        "from tensorflow.keras.models import Sequential\n",
        "from tensorflow.keras.layers import Embedding, LSTM, Dense\n",
        "import numpy as np"
      ],
      "metadata": {
        "id": "YLI5ZlFPbsxk"
      },
      "execution_count": 20,
      "outputs": []
    },
    {
      "cell_type": "code",
      "source": [
        "model = Sequential()\n",
        "model.add(Embedding(input_dim=374, output_dim=100, input_length=67))\n",
        "model.add(LSTM(150, return_sequences=True))\n",
        "model.add(LSTM(150))\n",
        "model.add(Dense(374, activation='softmax'))"
      ],
      "metadata": {
        "id": "eNeRE0Cmd7GU"
      },
      "execution_count": 21,
      "outputs": []
    },
    {
      "cell_type": "code",
      "source": [
        "model.summary()"
      ],
      "metadata": {
        "colab": {
          "base_uri": "https://localhost:8080/"
        },
        "id": "n_PUMzBWd7JD",
        "outputId": "ef84629d-3108-4f39-af72-6a99efa9d53b"
      },
      "execution_count": 22,
      "outputs": [
        {
          "output_type": "stream",
          "name": "stdout",
          "text": [
            "Model: \"sequential\"\n",
            "_________________________________________________________________\n",
            " Layer (type)                Output Shape              Param #   \n",
            "=================================================================\n",
            " embedding (Embedding)       (None, 67, 100)           37400     \n",
            "                                                                 \n",
            " lstm (LSTM)                 (None, 67, 150)           150600    \n",
            "                                                                 \n",
            " lstm_1 (LSTM)               (None, 150)               180600    \n",
            "                                                                 \n",
            " dense (Dense)               (None, 374)               56474     \n",
            "                                                                 \n",
            "=================================================================\n",
            "Total params: 425074 (1.62 MB)\n",
            "Trainable params: 425074 (1.62 MB)\n",
            "Non-trainable params: 0 (0.00 Byte)\n",
            "_________________________________________________________________\n"
          ]
        }
      ]
    },
    {
      "cell_type": "code",
      "source": [
        "model.compile(loss='categorical_crossentropy', optimizer='adam',metrics=['accuracy'])"
      ],
      "metadata": {
        "id": "nTuCotyGd7Lp"
      },
      "execution_count": 23,
      "outputs": []
    },
    {
      "cell_type": "code",
      "source": [
        "model.fit(X,y,epochs=100)"
      ],
      "metadata": {
        "colab": {
          "base_uri": "https://localhost:8080/"
        },
        "id": "CXrma87xd7ON",
        "outputId": "6b99d751-be5b-40be-a4ac-c17288488aeb"
      },
      "execution_count": 24,
      "outputs": [
        {
          "output_type": "stream",
          "name": "stdout",
          "text": [
            "Epoch 1/100\n",
            "24/24 [==============================] - 14s 222ms/step - loss: 5.6997 - accuracy: 0.0606\n",
            "Epoch 2/100\n",
            "24/24 [==============================] - 4s 154ms/step - loss: 5.4059 - accuracy: 0.0768\n",
            "Epoch 3/100\n",
            "24/24 [==============================] - 3s 138ms/step - loss: 5.3166 - accuracy: 0.0768\n",
            "Epoch 4/100\n",
            "24/24 [==============================] - 1s 60ms/step - loss: 5.2983 - accuracy: 0.0768\n",
            "Epoch 5/100\n",
            "24/24 [==============================] - 1s 52ms/step - loss: 5.2874 - accuracy: 0.0768\n",
            "Epoch 6/100\n",
            "24/24 [==============================] - 2s 79ms/step - loss: 5.2804 - accuracy: 0.0768\n",
            "Epoch 7/100\n",
            "24/24 [==============================] - 2s 77ms/step - loss: 5.2762 - accuracy: 0.0768\n",
            "Epoch 8/100\n",
            "24/24 [==============================] - 2s 93ms/step - loss: 5.2705 - accuracy: 0.0768\n",
            "Epoch 9/100\n",
            "24/24 [==============================] - 1s 61ms/step - loss: 5.2656 - accuracy: 0.0768\n",
            "Epoch 10/100\n",
            "24/24 [==============================] - 1s 37ms/step - loss: 5.2427 - accuracy: 0.0768\n",
            "Epoch 11/100\n",
            "24/24 [==============================] - 1s 26ms/step - loss: 5.1804 - accuracy: 0.0768\n",
            "Epoch 12/100\n",
            "24/24 [==============================] - 1s 33ms/step - loss: 5.0793 - accuracy: 0.0768\n",
            "Epoch 13/100\n",
            "24/24 [==============================] - 1s 42ms/step - loss: 4.9669 - accuracy: 0.0768\n",
            "Epoch 14/100\n",
            "24/24 [==============================] - 1s 44ms/step - loss: 4.8930 - accuracy: 0.0755\n",
            "Epoch 15/100\n",
            "24/24 [==============================] - 0s 20ms/step - loss: 4.8251 - accuracy: 0.0876\n",
            "Epoch 16/100\n",
            "24/24 [==============================] - 0s 18ms/step - loss: 4.7450 - accuracy: 0.1038\n",
            "Epoch 17/100\n",
            "24/24 [==============================] - 1s 33ms/step - loss: 4.6454 - accuracy: 0.0903\n",
            "Epoch 18/100\n",
            "24/24 [==============================] - 1s 55ms/step - loss: 4.5382 - accuracy: 0.1078\n",
            "Epoch 19/100\n",
            "24/24 [==============================] - 1s 28ms/step - loss: 4.4368 - accuracy: 0.1307\n",
            "Epoch 20/100\n",
            "24/24 [==============================] - 1s 19ms/step - loss: 4.3374 - accuracy: 0.1375\n",
            "Epoch 21/100\n",
            "24/24 [==============================] - 0s 18ms/step - loss: 4.2325 - accuracy: 0.1361\n",
            "Epoch 22/100\n",
            "24/24 [==============================] - 1s 26ms/step - loss: 4.1368 - accuracy: 0.1429\n",
            "Epoch 23/100\n",
            "24/24 [==============================] - 1s 33ms/step - loss: 4.0383 - accuracy: 0.1617\n",
            "Epoch 24/100\n",
            "24/24 [==============================] - 0s 19ms/step - loss: 3.9307 - accuracy: 0.1712\n",
            "Epoch 25/100\n",
            "24/24 [==============================] - 0s 17ms/step - loss: 3.8314 - accuracy: 0.1887\n",
            "Epoch 26/100\n",
            "24/24 [==============================] - 0s 18ms/step - loss: 3.7325 - accuracy: 0.1846\n",
            "Epoch 27/100\n",
            "24/24 [==============================] - 0s 17ms/step - loss: 3.6434 - accuracy: 0.2049\n",
            "Epoch 28/100\n",
            "24/24 [==============================] - 1s 26ms/step - loss: 3.5076 - accuracy: 0.2318\n",
            "Epoch 29/100\n",
            "24/24 [==============================] - 0s 18ms/step - loss: 3.4131 - accuracy: 0.2385\n",
            "Epoch 30/100\n",
            "24/24 [==============================] - 1s 26ms/step - loss: 3.2953 - accuracy: 0.2561\n",
            "Epoch 31/100\n",
            "24/24 [==============================] - 1s 34ms/step - loss: 3.1935 - accuracy: 0.2978\n",
            "Epoch 32/100\n",
            "24/24 [==============================] - 0s 19ms/step - loss: 3.0630 - accuracy: 0.3181\n",
            "Epoch 33/100\n",
            "24/24 [==============================] - 0s 10ms/step - loss: 2.9532 - accuracy: 0.3356\n",
            "Epoch 34/100\n",
            "24/24 [==============================] - 1s 40ms/step - loss: 2.8503 - accuracy: 0.3544\n",
            "Epoch 35/100\n",
            "24/24 [==============================] - 0s 17ms/step - loss: 2.7555 - accuracy: 0.3666\n",
            "Epoch 36/100\n",
            "24/24 [==============================] - 1s 18ms/step - loss: 2.6516 - accuracy: 0.4057\n",
            "Epoch 37/100\n",
            "24/24 [==============================] - 0s 10ms/step - loss: 2.5646 - accuracy: 0.4340\n",
            "Epoch 38/100\n",
            "24/24 [==============================] - 0s 17ms/step - loss: 2.4740 - accuracy: 0.4677\n",
            "Epoch 39/100\n",
            "24/24 [==============================] - 0s 14ms/step - loss: 2.3808 - accuracy: 0.4838\n",
            "Epoch 40/100\n",
            "24/24 [==============================] - 1s 40ms/step - loss: 2.2967 - accuracy: 0.5202\n",
            "Epoch 41/100\n",
            "24/24 [==============================] - 1s 26ms/step - loss: 2.2244 - accuracy: 0.5445\n",
            "Epoch 42/100\n",
            "24/24 [==============================] - 1s 26ms/step - loss: 2.1378 - accuracy: 0.5741\n",
            "Epoch 43/100\n",
            "24/24 [==============================] - 0s 18ms/step - loss: 2.0558 - accuracy: 0.6119\n",
            "Epoch 44/100\n",
            "24/24 [==============================] - 0s 9ms/step - loss: 1.9836 - accuracy: 0.6509\n",
            "Epoch 45/100\n",
            "24/24 [==============================] - 0s 18ms/step - loss: 1.9045 - accuracy: 0.6523\n",
            "Epoch 46/100\n",
            "24/24 [==============================] - 0s 18ms/step - loss: 1.8408 - accuracy: 0.6873\n",
            "Epoch 47/100\n",
            "24/24 [==============================] - 0s 17ms/step - loss: 1.7651 - accuracy: 0.7156\n",
            "Epoch 48/100\n",
            "24/24 [==============================] - 0s 18ms/step - loss: 1.6997 - accuracy: 0.7278\n",
            "Epoch 49/100\n",
            "24/24 [==============================] - 0s 18ms/step - loss: 1.6321 - accuracy: 0.7412\n",
            "Epoch 50/100\n",
            "24/24 [==============================] - 0s 10ms/step - loss: 1.5762 - accuracy: 0.7668\n",
            "Epoch 51/100\n",
            "24/24 [==============================] - 0s 10ms/step - loss: 1.5155 - accuracy: 0.7830\n",
            "Epoch 52/100\n",
            "24/24 [==============================] - 0s 10ms/step - loss: 1.4486 - accuracy: 0.8059\n",
            "Epoch 53/100\n",
            "24/24 [==============================] - 0s 10ms/step - loss: 1.3952 - accuracy: 0.8140\n",
            "Epoch 54/100\n",
            "24/24 [==============================] - 0s 18ms/step - loss: 1.3350 - accuracy: 0.8248\n",
            "Epoch 55/100\n",
            "24/24 [==============================] - 1s 26ms/step - loss: 1.2739 - accuracy: 0.8491\n",
            "Epoch 56/100\n",
            "24/24 [==============================] - 0s 17ms/step - loss: 1.2290 - accuracy: 0.8477\n",
            "Epoch 57/100\n",
            "24/24 [==============================] - 0s 10ms/step - loss: 1.1709 - accuracy: 0.8625\n",
            "Epoch 58/100\n",
            "24/24 [==============================] - 0s 10ms/step - loss: 1.1255 - accuracy: 0.8747\n",
            "Epoch 59/100\n",
            "24/24 [==============================] - 0s 11ms/step - loss: 1.0708 - accuracy: 0.8827\n",
            "Epoch 60/100\n",
            "24/24 [==============================] - 0s 18ms/step - loss: 1.0251 - accuracy: 0.8854\n",
            "Epoch 61/100\n",
            "24/24 [==============================] - 0s 11ms/step - loss: 0.9839 - accuracy: 0.8976\n",
            "Epoch 62/100\n",
            "24/24 [==============================] - 1s 26ms/step - loss: 0.9482 - accuracy: 0.9016\n",
            "Epoch 63/100\n",
            "24/24 [==============================] - 0s 10ms/step - loss: 0.9071 - accuracy: 0.9178\n",
            "Epoch 64/100\n",
            "24/24 [==============================] - 0s 18ms/step - loss: 0.8635 - accuracy: 0.9245\n",
            "Epoch 65/100\n",
            "24/24 [==============================] - 1s 26ms/step - loss: 0.8264 - accuracy: 0.9313\n",
            "Epoch 66/100\n",
            "24/24 [==============================] - 0s 10ms/step - loss: 0.7861 - accuracy: 0.9353\n",
            "Epoch 67/100\n",
            "24/24 [==============================] - 0s 19ms/step - loss: 0.7555 - accuracy: 0.9461\n",
            "Epoch 68/100\n",
            "24/24 [==============================] - 0s 10ms/step - loss: 0.7202 - accuracy: 0.9434\n",
            "Epoch 69/100\n",
            "24/24 [==============================] - 0s 20ms/step - loss: 0.6941 - accuracy: 0.9501\n",
            "Epoch 70/100\n",
            "24/24 [==============================] - 0s 14ms/step - loss: 0.6616 - accuracy: 0.9582\n",
            "Epoch 71/100\n",
            "24/24 [==============================] - 1s 32ms/step - loss: 0.6320 - accuracy: 0.9623\n",
            "Epoch 72/100\n",
            "24/24 [==============================] - 0s 19ms/step - loss: 0.6024 - accuracy: 0.9690\n",
            "Epoch 73/100\n",
            "24/24 [==============================] - 0s 14ms/step - loss: 0.5771 - accuracy: 0.9717\n",
            "Epoch 74/100\n",
            "24/24 [==============================] - 1s 26ms/step - loss: 0.5590 - accuracy: 0.9690\n",
            "Epoch 75/100\n",
            "24/24 [==============================] - 0s 11ms/step - loss: 0.5306 - accuracy: 0.9757\n",
            "Epoch 76/100\n",
            "24/24 [==============================] - 0s 10ms/step - loss: 0.5135 - accuracy: 0.9798\n",
            "Epoch 77/100\n",
            "24/24 [==============================] - 0s 19ms/step - loss: 0.4906 - accuracy: 0.9730\n",
            "Epoch 78/100\n",
            "24/24 [==============================] - 0s 18ms/step - loss: 0.4651 - accuracy: 0.9771\n",
            "Epoch 79/100\n",
            "24/24 [==============================] - 0s 18ms/step - loss: 0.4458 - accuracy: 0.9744\n",
            "Epoch 80/100\n",
            "24/24 [==============================] - 0s 10ms/step - loss: 0.4307 - accuracy: 0.9784\n",
            "Epoch 81/100\n",
            "24/24 [==============================] - 0s 11ms/step - loss: 0.4120 - accuracy: 0.9744\n",
            "Epoch 82/100\n",
            "24/24 [==============================] - 0s 10ms/step - loss: 0.3930 - accuracy: 0.9771\n",
            "Epoch 83/100\n",
            "24/24 [==============================] - 0s 10ms/step - loss: 0.3779 - accuracy: 0.9757\n",
            "Epoch 84/100\n",
            "24/24 [==============================] - 0s 9ms/step - loss: 0.3687 - accuracy: 0.9798\n",
            "Epoch 85/100\n",
            "24/24 [==============================] - 0s 10ms/step - loss: 0.3510 - accuracy: 0.9811\n",
            "Epoch 86/100\n",
            "24/24 [==============================] - 0s 10ms/step - loss: 0.3335 - accuracy: 0.9771\n",
            "Epoch 87/100\n",
            "24/24 [==============================] - 0s 10ms/step - loss: 0.3219 - accuracy: 0.9784\n",
            "Epoch 88/100\n",
            "24/24 [==============================] - 0s 10ms/step - loss: 0.3086 - accuracy: 0.9825\n",
            "Epoch 89/100\n",
            "24/24 [==============================] - 0s 18ms/step - loss: 0.2963 - accuracy: 0.9825\n",
            "Epoch 90/100\n",
            "24/24 [==============================] - 0s 18ms/step - loss: 0.2882 - accuracy: 0.9798\n",
            "Epoch 91/100\n",
            "24/24 [==============================] - 0s 10ms/step - loss: 0.2774 - accuracy: 0.9825\n",
            "Epoch 92/100\n",
            "24/24 [==============================] - 0s 18ms/step - loss: 0.2665 - accuracy: 0.9811\n",
            "Epoch 93/100\n",
            "24/24 [==============================] - 0s 11ms/step - loss: 0.2556 - accuracy: 0.9811\n",
            "Epoch 94/100\n",
            "24/24 [==============================] - 0s 10ms/step - loss: 0.2472 - accuracy: 0.9811\n",
            "Epoch 95/100\n",
            "24/24 [==============================] - 0s 11ms/step - loss: 0.2399 - accuracy: 0.9825\n",
            "Epoch 96/100\n",
            "24/24 [==============================] - 0s 18ms/step - loss: 0.2342 - accuracy: 0.9798\n",
            "Epoch 97/100\n",
            "24/24 [==============================] - 0s 10ms/step - loss: 0.2263 - accuracy: 0.9825\n",
            "Epoch 98/100\n",
            "24/24 [==============================] - 0s 18ms/step - loss: 0.2185 - accuracy: 0.9771\n",
            "Epoch 99/100\n",
            "24/24 [==============================] - 0s 18ms/step - loss: 0.2100 - accuracy: 0.9811\n",
            "Epoch 100/100\n",
            "24/24 [==============================] - 0s 18ms/step - loss: 0.2053 - accuracy: 0.9811\n"
          ]
        },
        {
          "output_type": "execute_result",
          "data": {
            "text/plain": [
              "<keras.src.callbacks.History at 0x78d640de07c0>"
            ]
          },
          "metadata": {},
          "execution_count": 24
        }
      ]
    },
    {
      "cell_type": "code",
      "source": [
        "import time\n",
        "\n",
        "def generate_text_sequence(initial_text, tokenizer, model, max_iterations=30):\n",
        "    text = initial_text\n",
        "    for i in range(max_iterations):\n",
        "        token_text = tokenizer.texts_to_sequences([text])[0]\n",
        "        padded_token_text = pad_sequences([token_text], maxlen=67, padding='pre')\n",
        "        pos = np.argmax(model.predict(padded_token_text))\n",
        "\n",
        "        for word, index in tokenizer.word_index.items():\n",
        "            if index == pos:\n",
        "                text = text + \" \" + word\n",
        "\n",
        "    print(text)\n",
        "    time.sleep(2)"
      ],
      "metadata": {
        "id": "zoVFwPQPd7Tb"
      },
      "execution_count": 35,
      "outputs": []
    },
    {
      "cell_type": "code",
      "source": [
        "initial_text = input(\"Enter your initial text: \")\n",
        "generate_text_sequence(initial_text, tokenizer, model)"
      ],
      "metadata": {
        "colab": {
          "base_uri": "https://localhost:8080/"
        },
        "id": "oYWdkCpcbs1A",
        "outputId": "9e3dae61-d195-4706-a839-ea40501ba810"
      },
      "execution_count": 36,
      "outputs": [
        {
          "output_type": "stream",
          "name": "stdout",
          "text": [
            "Enter your initial text: ICC\n",
            "1/1 [==============================] - 0s 19ms/step\n",
            "1/1 [==============================] - 0s 21ms/step\n",
            "1/1 [==============================] - 0s 20ms/step\n",
            "1/1 [==============================] - 0s 21ms/step\n",
            "1/1 [==============================] - 0s 18ms/step\n",
            "1/1 [==============================] - 0s 18ms/step\n",
            "1/1 [==============================] - 0s 19ms/step\n",
            "1/1 [==============================] - 0s 23ms/step\n",
            "1/1 [==============================] - 0s 20ms/step\n",
            "1/1 [==============================] - 0s 18ms/step\n",
            "1/1 [==============================] - 0s 19ms/step\n",
            "1/1 [==============================] - 0s 21ms/step\n",
            "1/1 [==============================] - 0s 21ms/step\n",
            "1/1 [==============================] - 0s 19ms/step\n",
            "1/1 [==============================] - 0s 19ms/step\n",
            "1/1 [==============================] - 0s 19ms/step\n",
            "1/1 [==============================] - 0s 19ms/step\n",
            "1/1 [==============================] - 0s 18ms/step\n",
            "1/1 [==============================] - 0s 19ms/step\n",
            "1/1 [==============================] - 0s 20ms/step\n",
            "1/1 [==============================] - 0s 20ms/step\n",
            "1/1 [==============================] - 0s 20ms/step\n",
            "1/1 [==============================] - 0s 20ms/step\n",
            "1/1 [==============================] - 0s 20ms/step\n",
            "1/1 [==============================] - 0s 21ms/step\n",
            "1/1 [==============================] - 0s 19ms/step\n",
            "1/1 [==============================] - 0s 26ms/step\n",
            "1/1 [==============================] - 0s 21ms/step\n",
            "1/1 [==============================] - 0s 19ms/step\n",
            "1/1 [==============================] - 0s 18ms/step\n",
            "ICC popularity in bombay calcutta and madras by the start of the 19th century in 1902–03 a team from england visited india maharaja bhupinder singh of patiala led an all india\n"
          ]
        }
      ]
    },
    {
      "cell_type": "code",
      "source": [],
      "metadata": {
        "id": "7RrsBv4olGuN"
      },
      "execution_count": null,
      "outputs": []
    }
  ]
}